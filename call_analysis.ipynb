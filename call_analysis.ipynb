{
 "cells": [
  {
   "cell_type": "code",
   "execution_count": 1,
   "id": "b8b50550",
   "metadata": {},
   "outputs": [
    {
     "name": "stderr",
     "output_type": "stream",
     "text": [
      "[nltk_data] Downloading package punkt to\n",
      "[nltk_data]     /Users/devarshimahajan/nltk_data...\n",
      "[nltk_data]   Package punkt is already up-to-date!\n"
     ]
    }
   ],
   "source": [
    "import re\n",
    "import pandas as pd\n",
    "import nltk\n",
    "nltk.download('punkt')\n",
    "\n",
    "def clean_text(text):\n",
    "    text = re.sub(r'\\s+', ' ', text)\n",
    "    text = re.sub(r'[^w\\s.,!?]', '', text)\n",
    "    return text.strip()\n",
    "\n",
    "def preprocess_df(df):\n",
    "    df['cleaned_df'] = df['Transcript_Text'].apply(clean_text)\n",
    "    return df"
   ]
  },
  {
   "cell_type": "code",
   "execution_count": 2,
   "id": "f251c34d",
   "metadata": {},
   "outputs": [],
   "source": [
    "from transformers import pipeline\n",
    "\n",
    "def load_sentiment_pipeline():\n",
    "    return pipeline(\"sentiment-analysis\", model = \"distilbert-base-uncased-finetuned-sst-2-english\")\n",
    "\n",
    "def get_sentiment(pipe, text):\n",
    "    result = pipe(text[:512])[0]\n",
    "    return result['label'], result['score']"
   ]
  },
  {
   "cell_type": "code",
   "execution_count": null,
   "id": "a6fafd25",
   "metadata": {},
   "outputs": [],
   "source": [
    "import openai\n",
    "import os\n",
    "from dotenv import load_dotenv\n",
    "\n",
    "load_dotenv()\n",
    "client = openai.OpenAI(api_key = \"sk-...\")\n",
    "\n",
    "# client = openai.OpenAI(api_key=api_key)\n",
    "\n",
    "def classify_feedback(transcript):\n",
    "    prompt = f\"\"\" You are a Customer Support Analyzer.\n",
    "\n",
    "    Transcript: \"{transcript}\"\n",
    "\n",
    "    1. Classify the type of feedback: Complaint, Compliment, Suggestion or Neutral\n",
    "    2. Identify Service or Product if mentioned\n",
    "    3. Provide reason in 2-3 words and make it clear and simple\n",
    "\n",
    "    Respond in JSON format with keys: type, product, reason.\n",
    "\n",
    "    \"\"\"\n",
    "\n",
    "    response = client.chat.completions.create(\n",
    "        model=\"gpt-4\",\n",
    "        messages=[\n",
    "            {\"role\": \"user\", \"content\": prompt}\n",
    "        ],\n",
    "        temperature=0.3,\n",
    "    )\n",
    "\n",
    "    return response.choices[0].message.content\n",
    "\n",
    "\n",
    "    "
   ]
  },
  {
   "cell_type": "code",
   "execution_count": 47,
   "id": "a99d5bc3",
   "metadata": {},
   "outputs": [],
   "source": [
    "def summarize_call(transcript):\n",
    "    prompt = f\"\"\"\n",
    "    you are a helpful assistant. Summarize this call in 1-2 sentences.\n",
    "\n",
    "    Transcript: \"{transcript}\"\n",
    "\n",
    "    Summary:\n",
    "    \"\"\"\n",
    "\n",
    "    response = client.chat.completions.create(\n",
    "        model=\"gpt-4\",\n",
    "        messages=[\n",
    "            {\"role\": \"user\", \"content\": prompt}\n",
    "        ],\n",
    "        temperature=0.3,\n",
    "    )\n",
    "    \n",
    "    return response.choices[0].message.content.strip()"
   ]
  },
  {
   "cell_type": "code",
   "execution_count": 43,
   "id": "8590a67e",
   "metadata": {},
   "outputs": [],
   "source": [
    "import pandas as pd\n",
    "from tqdm import tqdm\n",
    "import json \n",
    "\n",
    "\n",
    "def run_pipeline(input_csv, output_csv):\n",
    "    df = pd.read_csv(input_csv)\n",
    "    df = preprocess_df(df)\n",
    "    \n",
    "    sentiment_pipe = load_sentiment_pipeline()\n",
    "    \n",
    "    types, sentiment, scores, summaries, products, reasons = [], [], [], [] ,[], []\n",
    "\n",
    "    for txt in tqdm(df['Transcript_Text']):\n",
    "        sentiment_label, score = get_sentiment(sentiment_pipe, txt)\n",
    "        sentiment.append(sentiment_label)\n",
    "        scores.append(score)\n",
    "\n",
    "        feedback = classify_feedback(txt)\n",
    "        try:\n",
    "            fb_json = json.loads(feedback)\n",
    "        except:\n",
    "            fb_json = {'type': 'unknown', 'reason': 'Parsing Error', 'product': 'N/A'}\n",
    "        \n",
    "        types.append(fb_json['type'])\n",
    "        reasons.append(fb_json['reason'])\n",
    "        products.append(fb_json['product'])\n",
    "        \n",
    "        summaries.append(summarize_call(txt))\n",
    "\n",
    "    df['sentiment'] = sentiment\n",
    "    df['sentiment_score'] = scores\n",
    "    df['feedback_type'] = types\n",
    "    df['feedback_reason'] = reasons\n",
    "    df['feedback_product'] = products\n",
    "    df['summary'] = summaries\n",
    "    \n",
    "    df.to_csv(output_csv, index=False)\n",
    "    print(f\"Annotated data saved to {output_csv}\")"
   ]
  },
  {
   "cell_type": "code",
   "execution_count": 51,
   "id": "bcafc0ef",
   "metadata": {},
   "outputs": [
    {
     "name": "stderr",
     "output_type": "stream",
     "text": [
      "Device set to use mps:0\n",
      "100%|██████████| 25/25 [01:27<00:00,  3.50s/it]"
     ]
    },
    {
     "name": "stdout",
     "output_type": "stream",
     "text": [
      "Annotated data saved to output_transcript.csv\n"
     ]
    },
    {
     "name": "stderr",
     "output_type": "stream",
     "text": [
      "\n"
     ]
    }
   ],
   "source": [
    "import torch\n",
    "\n",
    "input_csv = \"input_transcript.csv\"\n",
    "output_csv = \"output_transcript.csv\"\n",
    "\n",
    "run_pipeline(input_csv, output_csv)"
   ]
  },
  {
   "cell_type": "code",
   "execution_count": null,
   "id": "9a749702",
   "metadata": {},
   "outputs": [],
   "source": []
  }
 ],
 "metadata": {
  "kernelspec": {
   "display_name": "Python 3",
   "language": "python",
   "name": "python3"
  },
  "language_info": {
   "codemirror_mode": {
    "name": "ipython",
    "version": 3
   },
   "file_extension": ".py",
   "mimetype": "text/x-python",
   "name": "python",
   "nbconvert_exporter": "python",
   "pygments_lexer": "ipython3",
   "version": "3.10.17"
  }
 },
 "nbformat": 4,
 "nbformat_minor": 5
}
